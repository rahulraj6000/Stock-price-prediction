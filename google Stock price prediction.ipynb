{
 "cells": [
  {
   "cell_type": "markdown",
   "metadata": {},
   "source": [
    "## Import Library"
   ]
  },
  {
   "cell_type": "code",
   "execution_count": 13,
   "metadata": {},
   "outputs": [],
   "source": [
    "import numpy as np # linear algebra\n",
    "import pandas as pd # data processing, CSV file I/O (e.g. pd.read_csv)\n",
    "import os\n",
    "import matplotlib.pylab as plt"
   ]
  },
  {
   "cell_type": "code",
   "execution_count": 14,
   "metadata": {},
   "outputs": [],
   "source": [
    "from keras.models import Sequential\n",
    "from keras.layers import Dense\n",
    "from keras.layers import LSTM\n",
    "from keras.layers import Dropout\n",
    "from keras.layers import *"
   ]
  },
  {
   "cell_type": "code",
   "execution_count": 15,
   "metadata": {},
   "outputs": [],
   "source": [
    "from sklearn.preprocessing import MinMaxScaler\n",
    "from sklearn.metrics import mean_squared_error\n",
    "from sklearn.metrics import mean_absolute_error\n",
    "from sklearn.model_selection import train_test_split\n",
    "from keras.callbacks import EarlyStopping"
   ]
  },
  {
   "cell_type": "code",
   "execution_count": 16,
   "metadata": {},
   "outputs": [
    {
     "data": {
      "text/html": [
       "<div>\n",
       "<style scoped>\n",
       "    .dataframe tbody tr th:only-of-type {\n",
       "        vertical-align: middle;\n",
       "    }\n",
       "\n",
       "    .dataframe tbody tr th {\n",
       "        vertical-align: top;\n",
       "    }\n",
       "\n",
       "    .dataframe thead th {\n",
       "        text-align: right;\n",
       "    }\n",
       "</style>\n",
       "<table border=\"1\" class=\"dataframe\">\n",
       "  <thead>\n",
       "    <tr style=\"text-align: right;\">\n",
       "      <th></th>\n",
       "      <th>Date</th>\n",
       "      <th>Open</th>\n",
       "      <th>High</th>\n",
       "      <th>Low</th>\n",
       "      <th>Close</th>\n",
       "      <th>Adj Close</th>\n",
       "      <th>Volume</th>\n",
       "    </tr>\n",
       "  </thead>\n",
       "  <tbody>\n",
       "    <tr>\n",
       "      <th>0</th>\n",
       "      <td>2013-01-02</td>\n",
       "      <td>357.385559</td>\n",
       "      <td>361.151062</td>\n",
       "      <td>355.959839</td>\n",
       "      <td>359.288177</td>\n",
       "      <td>359.288177</td>\n",
       "      <td>5115500</td>\n",
       "    </tr>\n",
       "    <tr>\n",
       "      <th>1</th>\n",
       "      <td>2013-01-03</td>\n",
       "      <td>360.122742</td>\n",
       "      <td>363.600128</td>\n",
       "      <td>358.031342</td>\n",
       "      <td>359.496826</td>\n",
       "      <td>359.496826</td>\n",
       "      <td>4666500</td>\n",
       "    </tr>\n",
       "    <tr>\n",
       "      <th>2</th>\n",
       "      <td>2013-01-04</td>\n",
       "      <td>362.313507</td>\n",
       "      <td>368.339294</td>\n",
       "      <td>361.488861</td>\n",
       "      <td>366.600616</td>\n",
       "      <td>366.600616</td>\n",
       "      <td>5562800</td>\n",
       "    </tr>\n",
       "    <tr>\n",
       "      <th>3</th>\n",
       "      <td>2013-01-07</td>\n",
       "      <td>365.348755</td>\n",
       "      <td>367.301056</td>\n",
       "      <td>362.929504</td>\n",
       "      <td>365.001007</td>\n",
       "      <td>365.001007</td>\n",
       "      <td>3332900</td>\n",
       "    </tr>\n",
       "    <tr>\n",
       "      <th>4</th>\n",
       "      <td>2013-01-08</td>\n",
       "      <td>365.393463</td>\n",
       "      <td>365.771027</td>\n",
       "      <td>359.874359</td>\n",
       "      <td>364.280701</td>\n",
       "      <td>364.280701</td>\n",
       "      <td>3373900</td>\n",
       "    </tr>\n",
       "  </tbody>\n",
       "</table>\n",
       "</div>"
      ],
      "text/plain": [
       "         Date        Open        High         Low       Close   Adj Close  \\\n",
       "0  2013-01-02  357.385559  361.151062  355.959839  359.288177  359.288177   \n",
       "1  2013-01-03  360.122742  363.600128  358.031342  359.496826  359.496826   \n",
       "2  2013-01-04  362.313507  368.339294  361.488861  366.600616  366.600616   \n",
       "3  2013-01-07  365.348755  367.301056  362.929504  365.001007  365.001007   \n",
       "4  2013-01-08  365.393463  365.771027  359.874359  364.280701  364.280701   \n",
       "\n",
       "    Volume  \n",
       "0  5115500  \n",
       "1  4666500  \n",
       "2  5562800  \n",
       "3  3332900  \n",
       "4  3373900  "
      ]
     },
     "execution_count": 16,
     "metadata": {},
     "output_type": "execute_result"
    }
   ],
   "source": [
    "df_train = pd.read_csv(\"trainset.csv\")\n",
    "df_train.head()\n"
   ]
  },
  {
   "cell_type": "code",
   "execution_count": 17,
   "metadata": {},
   "outputs": [
    {
     "data": {
      "text/plain": [
       "(459,)"
      ]
     },
     "execution_count": 17,
     "metadata": {},
     "output_type": "execute_result"
    }
   ],
   "source": [
    "np.array(df_train.Date.iloc[800:].values).shape"
   ]
  },
  {
   "cell_type": "code",
   "execution_count": 18,
   "metadata": {},
   "outputs": [
    {
     "data": {
      "text/html": [
       "<div>\n",
       "<style scoped>\n",
       "    .dataframe tbody tr th:only-of-type {\n",
       "        vertical-align: middle;\n",
       "    }\n",
       "\n",
       "    .dataframe tbody tr th {\n",
       "        vertical-align: top;\n",
       "    }\n",
       "\n",
       "    .dataframe thead th {\n",
       "        text-align: right;\n",
       "    }\n",
       "</style>\n",
       "<table border=\"1\" class=\"dataframe\">\n",
       "  <thead>\n",
       "    <tr style=\"text-align: right;\">\n",
       "      <th></th>\n",
       "      <th>Date</th>\n",
       "      <th>Open</th>\n",
       "      <th>High</th>\n",
       "      <th>Low</th>\n",
       "      <th>Close</th>\n",
       "      <th>Adj Close</th>\n",
       "      <th>Volume</th>\n",
       "    </tr>\n",
       "  </thead>\n",
       "  <tbody>\n",
       "    <tr>\n",
       "      <th>800</th>\n",
       "      <td>2016-03-08</td>\n",
       "      <td>688.590027</td>\n",
       "      <td>703.789978</td>\n",
       "      <td>685.340027</td>\n",
       "      <td>693.969971</td>\n",
       "      <td>693.969971</td>\n",
       "      <td>2076300</td>\n",
       "    </tr>\n",
       "    <tr>\n",
       "      <th>801</th>\n",
       "      <td>2016-03-09</td>\n",
       "      <td>698.469971</td>\n",
       "      <td>705.679993</td>\n",
       "      <td>694.000000</td>\n",
       "      <td>705.239990</td>\n",
       "      <td>705.239990</td>\n",
       "      <td>1421500</td>\n",
       "    </tr>\n",
       "    <tr>\n",
       "      <th>802</th>\n",
       "      <td>2016-03-10</td>\n",
       "      <td>708.119995</td>\n",
       "      <td>716.440002</td>\n",
       "      <td>703.359985</td>\n",
       "      <td>712.820007</td>\n",
       "      <td>712.820007</td>\n",
       "      <td>2829400</td>\n",
       "    </tr>\n",
       "    <tr>\n",
       "      <th>803</th>\n",
       "      <td>2016-03-11</td>\n",
       "      <td>720.000000</td>\n",
       "      <td>726.919983</td>\n",
       "      <td>717.125000</td>\n",
       "      <td>726.820007</td>\n",
       "      <td>726.820007</td>\n",
       "      <td>1970800</td>\n",
       "    </tr>\n",
       "    <tr>\n",
       "      <th>804</th>\n",
       "      <td>2016-03-14</td>\n",
       "      <td>726.809998</td>\n",
       "      <td>735.500000</td>\n",
       "      <td>725.150024</td>\n",
       "      <td>730.489990</td>\n",
       "      <td>730.489990</td>\n",
       "      <td>1718300</td>\n",
       "    </tr>\n",
       "    <tr>\n",
       "      <th>...</th>\n",
       "      <td>...</td>\n",
       "      <td>...</td>\n",
       "      <td>...</td>\n",
       "      <td>...</td>\n",
       "      <td>...</td>\n",
       "      <td>...</td>\n",
       "      <td>...</td>\n",
       "    </tr>\n",
       "    <tr>\n",
       "      <th>1254</th>\n",
       "      <td>2017-12-22</td>\n",
       "      <td>1061.109985</td>\n",
       "      <td>1064.199951</td>\n",
       "      <td>1059.439941</td>\n",
       "      <td>1060.119995</td>\n",
       "      <td>1060.119995</td>\n",
       "      <td>755100</td>\n",
       "    </tr>\n",
       "    <tr>\n",
       "      <th>1255</th>\n",
       "      <td>2017-12-26</td>\n",
       "      <td>1058.069946</td>\n",
       "      <td>1060.119995</td>\n",
       "      <td>1050.199951</td>\n",
       "      <td>1056.739990</td>\n",
       "      <td>1056.739990</td>\n",
       "      <td>760600</td>\n",
       "    </tr>\n",
       "    <tr>\n",
       "      <th>1256</th>\n",
       "      <td>2017-12-27</td>\n",
       "      <td>1057.390015</td>\n",
       "      <td>1058.369995</td>\n",
       "      <td>1048.050049</td>\n",
       "      <td>1049.369995</td>\n",
       "      <td>1049.369995</td>\n",
       "      <td>1271900</td>\n",
       "    </tr>\n",
       "    <tr>\n",
       "      <th>1257</th>\n",
       "      <td>2017-12-28</td>\n",
       "      <td>1051.599976</td>\n",
       "      <td>1054.750000</td>\n",
       "      <td>1044.770020</td>\n",
       "      <td>1048.140015</td>\n",
       "      <td>1048.140015</td>\n",
       "      <td>837100</td>\n",
       "    </tr>\n",
       "    <tr>\n",
       "      <th>1258</th>\n",
       "      <td>2017-12-29</td>\n",
       "      <td>1046.719971</td>\n",
       "      <td>1049.699951</td>\n",
       "      <td>1044.900024</td>\n",
       "      <td>1046.400024</td>\n",
       "      <td>1046.400024</td>\n",
       "      <td>887500</td>\n",
       "    </tr>\n",
       "  </tbody>\n",
       "</table>\n",
       "<p>459 rows × 7 columns</p>\n",
       "</div>"
      ],
      "text/plain": [
       "            Date         Open         High          Low        Close  \\\n",
       "800   2016-03-08   688.590027   703.789978   685.340027   693.969971   \n",
       "801   2016-03-09   698.469971   705.679993   694.000000   705.239990   \n",
       "802   2016-03-10   708.119995   716.440002   703.359985   712.820007   \n",
       "803   2016-03-11   720.000000   726.919983   717.125000   726.820007   \n",
       "804   2016-03-14   726.809998   735.500000   725.150024   730.489990   \n",
       "...          ...          ...          ...          ...          ...   \n",
       "1254  2017-12-22  1061.109985  1064.199951  1059.439941  1060.119995   \n",
       "1255  2017-12-26  1058.069946  1060.119995  1050.199951  1056.739990   \n",
       "1256  2017-12-27  1057.390015  1058.369995  1048.050049  1049.369995   \n",
       "1257  2017-12-28  1051.599976  1054.750000  1044.770020  1048.140015   \n",
       "1258  2017-12-29  1046.719971  1049.699951  1044.900024  1046.400024   \n",
       "\n",
       "        Adj Close   Volume  \n",
       "800    693.969971  2076300  \n",
       "801    705.239990  1421500  \n",
       "802    712.820007  2829400  \n",
       "803    726.820007  1970800  \n",
       "804    730.489990  1718300  \n",
       "...           ...      ...  \n",
       "1254  1060.119995   755100  \n",
       "1255  1056.739990   760600  \n",
       "1256  1049.369995  1271900  \n",
       "1257  1048.140015   837100  \n",
       "1258  1046.400024   887500  \n",
       "\n",
       "[459 rows x 7 columns]"
      ]
     },
     "execution_count": 18,
     "metadata": {},
     "output_type": "execute_result"
    }
   ],
   "source": [
    "df_train[800:]"
   ]
  },
  {
   "cell_type": "code",
   "execution_count": 19,
   "metadata": {},
   "outputs": [
    {
     "data": {
      "text/plain": [
       "(800, 1)"
      ]
     },
     "execution_count": 19,
     "metadata": {},
     "output_type": "execute_result"
    }
   ],
   "source": [
    "training_set1 = df_train.iloc[:800, 1:2].values\n",
    "training_set1.shape"
   ]
  },
  {
   "cell_type": "markdown",
   "metadata": {},
   "source": [
    "## Train Test Split"
   ]
  },
  {
   "cell_type": "code",
   "execution_count": 20,
   "metadata": {},
   "outputs": [
    {
     "name": "stdout",
     "output_type": "stream",
     "text": [
      "(800, 1)\n"
     ]
    },
    {
     "data": {
      "text/plain": [
       "Text(0,0.5,'Price')"
      ]
     },
     "execution_count": 20,
     "metadata": {},
     "output_type": "execute_result"
    },
    {
     "data": {
      "image/png": "[encoded data removed]",
      "text/plain": [
       "<Figure size 432x288 with 1 Axes>"
      ]
     },
     "metadata": {
      "needs_background": "light"
     },
     "output_type": "display_data"
    }
   ],
   "source": [
    "training_data = df_train.iloc[:,1:2]\n",
    "training_set = training_data[0:800]\n",
    "test_set      = training_data[800:]\n",
    "print(training_set.shape)\n",
    "plt.plot(training_set)\n",
    "plt.ylabel('Price')"
   ]
  },
  {
   "cell_type": "code",
   "execution_count": 21,
   "metadata": {},
   "outputs": [
    {
     "data": {
      "text/html": [
       "<div>\n",
       "<style scoped>\n",
       "    .dataframe tbody tr th:only-of-type {\n",
       "        vertical-align: middle;\n",
       "    }\n",
       "\n",
       "    .dataframe tbody tr th {\n",
       "        vertical-align: top;\n",
       "    }\n",
       "\n",
       "    .dataframe thead th {\n",
       "        text-align: right;\n",
       "    }\n",
       "</style>\n",
       "<table border=\"1\" class=\"dataframe\">\n",
       "  <thead>\n",
       "    <tr style=\"text-align: right;\">\n",
       "      <th></th>\n",
       "      <th>Open</th>\n",
       "    </tr>\n",
       "  </thead>\n",
       "  <tbody>\n",
       "    <tr>\n",
       "      <th>0</th>\n",
       "      <td>357.385559</td>\n",
       "    </tr>\n",
       "    <tr>\n",
       "      <th>1</th>\n",
       "      <td>360.122742</td>\n",
       "    </tr>\n",
       "    <tr>\n",
       "      <th>2</th>\n",
       "      <td>362.313507</td>\n",
       "    </tr>\n",
       "    <tr>\n",
       "      <th>3</th>\n",
       "      <td>365.348755</td>\n",
       "    </tr>\n",
       "    <tr>\n",
       "      <th>4</th>\n",
       "      <td>365.393463</td>\n",
       "    </tr>\n",
       "    <tr>\n",
       "      <th>...</th>\n",
       "      <td>...</td>\n",
       "    </tr>\n",
       "    <tr>\n",
       "      <th>795</th>\n",
       "      <td>703.619995</td>\n",
       "    </tr>\n",
       "    <tr>\n",
       "      <th>796</th>\n",
       "      <td>719.000000</td>\n",
       "    </tr>\n",
       "    <tr>\n",
       "      <th>797</th>\n",
       "      <td>718.679993</td>\n",
       "    </tr>\n",
       "    <tr>\n",
       "      <th>798</th>\n",
       "      <td>714.989990</td>\n",
       "    </tr>\n",
       "    <tr>\n",
       "      <th>799</th>\n",
       "      <td>706.900024</td>\n",
       "    </tr>\n",
       "  </tbody>\n",
       "</table>\n",
       "<p>800 rows × 1 columns</p>\n",
       "</div>"
      ],
      "text/plain": [
       "           Open\n",
       "0    357.385559\n",
       "1    360.122742\n",
       "2    362.313507\n",
       "3    365.348755\n",
       "4    365.393463\n",
       "..          ...\n",
       "795  703.619995\n",
       "796  719.000000\n",
       "797  718.679993\n",
       "798  714.989990\n",
       "799  706.900024\n",
       "\n",
       "[800 rows x 1 columns]"
      ]
     },
     "execution_count": 21,
     "metadata": {},
     "output_type": "execute_result"
    }
   ],
   "source": [
    "training_set"
   ]
  },
  {
   "cell_type": "markdown",
   "metadata": {},
   "source": [
    "## Data Normalization"
   ]
  },
  {
   "cell_type": "code",
   "execution_count": 22,
   "metadata": {},
   "outputs": [
    {
     "data": {
      "text/plain": [
       "[<matplotlib.lines.Line2D at 0x7f0cfae8f278>]"
      ]
     },
     "execution_count": 22,
     "metadata": {},
     "output_type": "execute_result"
    },
    {
     "data": {
      "image/png": "[encoded data removed]",
      "text/plain": [
       "<Figure size 432x288 with 1 Axes>"
      ]
     },
     "metadata": {
      "needs_background": "light"
     },
     "output_type": "display_data"
    }
   ],
   "source": [
    "from sklearn.preprocessing import MinMaxScaler\n",
    "mms = MinMaxScaler(feature_range=(0,1))\n",
    "training_data_scaled = mms.fit_transform(training_set)\n",
    "plt.plot(training_data_scaled)"
   ]
  },
  {
   "cell_type": "code",
   "execution_count": 23,
   "metadata": {},
   "outputs": [
    {
     "name": "stdout",
     "output_type": "stream",
     "text": [
      "[[0.10331084 0.11420797 0.12440757 0.11387634 0.09307696]]\n"
     ]
    }
   ],
   "source": [
    "print(np.array([training_data_scaled[60:65,0]]))"
   ]
  },
  {
   "cell_type": "code",
   "execution_count": 24,
   "metadata": {},
   "outputs": [],
   "source": [
    "# Create trainind data x_train with window/history of 60 samples and y_train with one future sample. \n",
    "\n",
    "def create_train_test_data(training_data_scaled,window,lag=0):\n",
    "    x_train= []\n",
    "    y_train= []\n",
    "  \n",
    "    for i in range(60,training_data_scaled.shape[0]):\n",
    "        x_train.append(training_data_scaled[i-60:i,0])\n",
    "        y_train.append(training_data_scaled[i,0])\n",
    "    x_train, y_train = np.array(x_train), np.array(y_train)\n",
    "    print('x_train shape: ',x_train.shape)\n",
    "    print('y_train shape: ',y_train.shape)\n",
    "    return x_train ,y_train"
   ]
  },
  {
   "cell_type": "code",
   "execution_count": 25,
   "metadata": {},
   "outputs": [
    {
     "name": "stdout",
     "output_type": "stream",
     "text": [
      "x_train shape:  (740, 60)\n",
      "y_train shape:  (740,)\n"
     ]
    }
   ],
   "source": [
    "x_train,y_train =create_train_test_data(training_data_scaled,60)\n",
    "x_train.shape[0]\n",
    "x_train = np.reshape(x_train,(x_train.shape[0],x_train.shape[1],1))"
   ]
  },
  {
   "cell_type": "code",
   "execution_count": 26,
   "metadata": {},
   "outputs": [
    {
     "name": "stdout",
     "output_type": "stream",
     "text": [
      "Epoch 1/100\n",
      "740/740 [==============================] - 12s 16ms/step - loss: 0.0516\n",
      "Epoch 2/100\n",
      "740/740 [==============================] - 5s 7ms/step - loss: 0.0093\n",
      "Epoch 3/100\n",
      "740/740 [==============================] - 6s 8ms/step - loss: 0.0070\n",
      "Epoch 4/100\n",
      "740/740 [==============================] - 5s 7ms/step - loss: 0.0063\n",
      "Epoch 5/100\n",
      "740/740 [==============================] - 6s 8ms/step - loss: 0.0057\n",
      "Epoch 6/100\n",
      "740/740 [==============================] - 5s 7ms/step - loss: 0.0062\n",
      "Epoch 7/100\n",
      "740/740 [==============================] - 5s 7ms/step - loss: 0.0058\n",
      "Epoch 8/100\n",
      "740/740 [==============================] - 5s 7ms/step - loss: 0.0056\n",
      "Epoch 9/100\n",
      "740/740 [==============================] - 6s 8ms/step - loss: 0.0061\n",
      "Epoch 10/100\n",
      "740/740 [==============================] - 5s 7ms/step - loss: 0.0065\n",
      "Epoch 11/100\n",
      "740/740 [==============================] - 6s 7ms/step - loss: 0.0049\n",
      "Epoch 12/100\n",
      "740/740 [==============================] - 6s 8ms/step - loss: 0.0053\n",
      "Epoch 13/100\n",
      "740/740 [==============================] - 5s 7ms/step - loss: 0.0047\n",
      "Epoch 14/100\n",
      "740/740 [==============================] - 5s 7ms/step - loss: 0.0051\n",
      "Epoch 15/100\n",
      "740/740 [==============================] - 5s 7ms/step - loss: 0.0044\n",
      "Epoch 16/100\n",
      "740/740 [==============================] - 5s 7ms/step - loss: 0.0044\n",
      "Epoch 17/100\n",
      "740/740 [==============================] - 5s 7ms/step - loss: 0.0054\n",
      "Epoch 18/100\n",
      "740/740 [==============================] - 5s 7ms/step - loss: 0.0051\n",
      "Epoch 19/100\n",
      "740/740 [==============================] - 5s 7ms/step - loss: 0.0048\n",
      "Epoch 20/100\n",
      "740/740 [==============================] - 5s 7ms/step - loss: 0.0044\n",
      "Epoch 21/100\n",
      "740/740 [==============================] - 5s 7ms/step - loss: 0.0041\n",
      "Epoch 22/100\n",
      "740/740 [==============================] - 5s 7ms/step - loss: 0.0044\n",
      "Epoch 23/100\n",
      "740/740 [==============================] - 5s 7ms/step - loss: 0.0042\n",
      "Epoch 24/100\n",
      "740/740 [==============================] - 5s 7ms/step - loss: 0.0043\n",
      "Epoch 25/100\n",
      "740/740 [==============================] - 5s 7ms/step - loss: 0.0047\n",
      "Epoch 26/100\n",
      "740/740 [==============================] - 5s 7ms/step - loss: 0.0041\n",
      "Epoch 27/100\n",
      "740/740 [==============================] - 5s 7ms/step - loss: 0.0039\n",
      "Epoch 28/100\n",
      "740/740 [==============================] - 5s 7ms/step - loss: 0.0038\n",
      "Epoch 29/100\n",
      "740/740 [==============================] - 5s 7ms/step - loss: 0.0042\n",
      "Epoch 30/100\n",
      "740/740 [==============================] - 5s 7ms/step - loss: 0.0044\n",
      "Epoch 31/100\n",
      "740/740 [==============================] - 5s 7ms/step - loss: 0.0041\n",
      "Epoch 32/100\n",
      "740/740 [==============================] - 5s 7ms/step - loss: 0.0040\n",
      "Epoch 33/100\n",
      "740/740 [==============================] - 5s 7ms/step - loss: 0.0035\n",
      "Epoch 34/100\n",
      "740/740 [==============================] - 5s 7ms/step - loss: 0.0035\n",
      "Epoch 35/100\n",
      "740/740 [==============================] - 6s 8ms/step - loss: 0.0040\n",
      "Epoch 36/100\n",
      "740/740 [==============================] - 6s 8ms/step - loss: 0.0046\n",
      "Epoch 37/100\n",
      "740/740 [==============================] - 5s 7ms/step - loss: 0.0042\n",
      "Epoch 38/100\n",
      "740/740 [==============================] - 5s 7ms/step - loss: 0.0035\n",
      "Epoch 39/100\n",
      "740/740 [==============================] - 5s 7ms/step - loss: 0.0035\n",
      "Epoch 40/100\n",
      "740/740 [==============================] - 5s 7ms/step - loss: 0.0043\n",
      "Epoch 41/100\n",
      "740/740 [==============================] - 5s 7ms/step - loss: 0.0041\n",
      "Epoch 42/100\n",
      "740/740 [==============================] - 5s 7ms/step - loss: 0.0039\n",
      "Epoch 43/100\n",
      "740/740 [==============================] - 5s 7ms/step - loss: 0.0035\n",
      "Epoch 44/100\n",
      "740/740 [==============================] - 5s 7ms/step - loss: 0.0034\n",
      "Epoch 45/100\n",
      "740/740 [==============================] - 6s 8ms/step - loss: 0.0033\n",
      "Epoch 46/100\n",
      "740/740 [==============================] - 5s 7ms/step - loss: 0.0032\n",
      "Epoch 47/100\n",
      "740/740 [==============================] - 5s 7ms/step - loss: 0.0033\n",
      "Epoch 48/100\n",
      "740/740 [==============================] - 5s 7ms/step - loss: 0.0031\n",
      "Epoch 49/100\n",
      "740/740 [==============================] - 5s 7ms/step - loss: 0.0034\n",
      "Epoch 50/100\n",
      "740/740 [==============================] - 5s 7ms/step - loss: 0.0032\n",
      "Epoch 51/100\n",
      "740/740 [==============================] - 5s 7ms/step - loss: 0.0033\n",
      "Epoch 52/100\n",
      "740/740 [==============================] - 5s 7ms/step - loss: 0.0031\n",
      "Epoch 53/100\n",
      "740/740 [==============================] - 5s 7ms/step - loss: 0.0032\n",
      "Epoch 54/100\n",
      "740/740 [==============================] - 5s 7ms/step - loss: 0.0032\n",
      "Epoch 55/100\n",
      "740/740 [==============================] - 5s 7ms/step - loss: 0.0033\n",
      "Epoch 56/100\n",
      "740/740 [==============================] - 5s 7ms/step - loss: 0.0030\n",
      "Epoch 57/100\n",
      "740/740 [==============================] - 5s 7ms/step - loss: 0.0029\n",
      "Epoch 58/100\n",
      "740/740 [==============================] - 5s 7ms/step - loss: 0.0033\n",
      "Epoch 59/100\n",
      "740/740 [==============================] - 5s 7ms/step - loss: 0.0041\n",
      "Epoch 60/100\n",
      "740/740 [==============================] - 5s 7ms/step - loss: 0.0030\n",
      "Epoch 61/100\n",
      "740/740 [==============================] - 5s 7ms/step - loss: 0.0029\n",
      "Epoch 62/100\n",
      "740/740 [==============================] - 5s 7ms/step - loss: 0.0027\n",
      "Epoch 63/100\n",
      "740/740 [==============================] - 5s 7ms/step - loss: 0.0028\n",
      "Epoch 64/100\n",
      "740/740 [==============================] - 5s 7ms/step - loss: 0.0027\n",
      "Epoch 65/100\n",
      "740/740 [==============================] - 5s 7ms/step - loss: 0.0028\n",
      "Epoch 66/100\n",
      "740/740 [==============================] - 5s 7ms/step - loss: 0.0027\n",
      "Epoch 67/100\n",
      "740/740 [==============================] - 5s 7ms/step - loss: 0.0025\n",
      "Epoch 68/100\n",
      "740/740 [==============================] - 5s 7ms/step - loss: 0.0023\n",
      "Epoch 69/100\n",
      "740/740 [==============================] - 5s 7ms/step - loss: 0.0024\n",
      "Epoch 70/100\n",
      "740/740 [==============================] - 5s 7ms/step - loss: 0.0024\n",
      "Epoch 71/100\n",
      "740/740 [==============================] - 5s 7ms/step - loss: 0.0025\n",
      "Epoch 72/100\n",
      "740/740 [==============================] - 5s 7ms/step - loss: 0.0027\n",
      "Epoch 73/100\n",
      "740/740 [==============================] - 5s 7ms/step - loss: 0.0025\n",
      "Epoch 74/100\n",
      "740/740 [==============================] - 5s 7ms/step - loss: 0.0024\n",
      "Epoch 75/100\n",
      "740/740 [==============================] - 5s 7ms/step - loss: 0.0029\n",
      "Epoch 76/100\n",
      "740/740 [==============================] - 5s 7ms/step - loss: 0.0022\n",
      "Epoch 77/100\n",
      "740/740 [==============================] - 5s 7ms/step - loss: 0.0024\n",
      "Epoch 78/100\n",
      "740/740 [==============================] - 5s 7ms/step - loss: 0.0023\n",
      "Epoch 79/100\n",
      "740/740 [==============================] - 5s 7ms/step - loss: 0.0023\n",
      "Epoch 80/100\n",
      "740/740 [==============================] - 5s 7ms/step - loss: 0.0021\n",
      "Epoch 81/100\n",
      "740/740 [==============================] - 6s 8ms/step - loss: 0.0022\n",
      "Epoch 82/100\n",
      "740/740 [==============================] - 6s 8ms/step - loss: 0.0024\n",
      "Epoch 83/100\n",
      "740/740 [==============================] - 6s 7ms/step - loss: 0.0024\n",
      "Epoch 84/100\n",
      "740/740 [==============================] - 6s 8ms/step - loss: 0.0021\n",
      "Epoch 85/100\n",
      "740/740 [==============================] - 6s 9ms/step - loss: 0.0022\n",
      "Epoch 86/100\n",
      "740/740 [==============================] - 7s 9ms/step - loss: 0.0020\n",
      "Epoch 87/100\n",
      "740/740 [==============================] - 7s 9ms/step - loss: 0.0020\n",
      "Epoch 88/100\n",
      "740/740 [==============================] - 6s 8ms/step - loss: 0.0022\n",
      "Epoch 89/100\n",
      "740/740 [==============================] - 6s 8ms/step - loss: 0.0023\n",
      "Epoch 90/100\n",
      "740/740 [==============================] - 5s 7ms/step - loss: 0.0021\n",
      "Epoch 91/100\n",
      "740/740 [==============================] - 5s 7ms/step - loss: 0.0021\n",
      "Epoch 92/100\n",
      "740/740 [==============================] - 6s 8ms/step - loss: 0.0018\n",
      "Epoch 93/100\n",
      "740/740 [==============================] - 6s 8ms/step - loss: 0.0019\n",
      "Epoch 94/100\n",
      "740/740 [==============================] - 5s 7ms/step - loss: 0.0020\n",
      "Epoch 95/100\n",
      "740/740 [==============================] - 5s 7ms/step - loss: 0.0019\n",
      "Epoch 96/100\n",
      "740/740 [==============================] - 6s 8ms/step - loss: 0.0020\n",
      "Epoch 97/100\n",
      "740/740 [==============================] - 6s 8ms/step - loss: 0.0020\n",
      "Epoch 98/100\n",
      "740/740 [==============================] - 6s 8ms/step - loss: 0.0019\n",
      "Epoch 99/100\n",
      "740/740 [==============================] - 5s 7ms/step - loss: 0.0027\n",
      "Epoch 100/100\n",
      "740/740 [==============================] - 6s 8ms/step - loss: 0.0022\n"
     ]
    },
    {
     "data": {
      "text/plain": [
       "<keras.callbacks.History at 0x7f0cf8c74198>"
      ]
     },
     "execution_count": 26,
     "metadata": {},
     "output_type": "execute_result"
    }
   ],
   "source": [
    "model = Sequential()\n",
    "#Adding the first LSTM layer and some Dropout regularisation\n",
    "model.add(LSTM(units = 50, return_sequences = True, input_shape = (x_train.shape[1], 1)))\n",
    "model.add(Dropout(0.2))\n",
    "# Adding a second LSTM layer and some Dropout regularisation\n",
    "model.add(LSTM(units = 50, return_sequences = True))\n",
    "model.add(Dropout(0.2))\n",
    "# Adding a third LSTM layer and some Dropout regularisation\n",
    "model.add(LSTM(units = 50, return_sequences = True))\n",
    "model.add(Dropout(0.2))\n",
    "# Adding a fourth LSTM layer and some Dropout regularisation\n",
    "model.add(LSTM(units = 50))\n",
    "model.add(Dropout(0.2))\n",
    "# Adding the output layer\n",
    "model.add(Dense(units = 1))\n",
    "\n",
    "# Compiling the RNN\n",
    "model.compile(optimizer = 'adam', loss = 'mean_squared_error')\n",
    "\n",
    "# Fitting the RNN to the Training set\n",
    "model.fit(x_train, y_train, epochs = 100, batch_size = 32)"
   ]
  },
  {
   "cell_type": "code",
   "execution_count": 27,
   "metadata": {},
   "outputs": [],
   "source": [
    "model.save(\"my_h5_model.h5\")"
   ]
  },
  {
   "cell_type": "code",
   "execution_count": 28,
   "metadata": {},
   "outputs": [
    {
     "data": {
      "text/plain": [
       "459"
      ]
     },
     "execution_count": 28,
     "metadata": {},
     "output_type": "execute_result"
    }
   ],
   "source": [
    "test_set.size"
   ]
  },
  {
   "cell_type": "code",
   "execution_count": 30,
   "metadata": {},
   "outputs": [],
   "source": [
    "inputs = mms.transform(test_set)\n",
    "X_test = []\n",
    "for i in range(60,459):\n",
    "    X_test.append(inputs[i-60:i, 0])\n",
    "X_test = np.array(X_test)"
   ]
  },
  {
   "cell_type": "code",
   "execution_count": 31,
   "metadata": {},
   "outputs": [],
   "source": [
    "x_test = np.reshape(X_test, (X_test.shape[0], X_test.shape[1], 1))"
   ]
  },
  {
   "cell_type": "code",
   "execution_count": 32,
   "metadata": {},
   "outputs": [
    {
     "data": {
      "text/plain": [
       "(399, 60)"
      ]
     },
     "execution_count": 32,
     "metadata": {},
     "output_type": "execute_result"
    }
   ],
   "source": [
    "X_test.shape"
   ]
  },
  {
   "cell_type": "code",
   "execution_count": 33,
   "metadata": {},
   "outputs": [],
   "source": [
    "predicted_stock_price = model.predict(x_test)\n",
    "predicted_stock_price = mms.inverse_transform(predicted_stock_price)"
   ]
  },
  {
   "cell_type": "code",
   "execution_count": 34,
   "metadata": {},
   "outputs": [
    {
     "data": {
      "text/plain": [
       "array([ 732.1575 ,  733.4113 ,  732.719  ,  730.5636 ,  727.5948 ,\n",
       "        726.58594,  727.06476,  727.255  ,  726.4042 ,  725.34186,\n",
       "        725.2557 ,  724.72723,  722.37335,  717.39374,  712.54663,\n",
       "        709.7028 ,  708.3819 ,  702.8286 ,  695.04926,  690.4053 ,\n",
       "        690.1607 ,  692.52075,  696.3209 ,  700.093  ,  700.7714 ,\n",
       "        701.0197 ,  701.65814,  704.2998 ,  709.9272 ,  716.36273,\n",
       "        720.272  ,  722.58234,  723.13007,  724.7949 ,  728.96515,\n",
       "        734.0283 ,  738.18414,  740.32886,  740.70435,  740.39465,\n",
       "        742.56775,  752.4262 ,  759.4806 ,  763.7545 ,  765.32495,\n",
       "        766.9582 ,  769.02625,  773.08997,  776.5942 ,  779.4039 ,\n",
       "        781.6128 ,  782.17773,  782.8058 ,  782.7642 ,  781.90405,\n",
       "        782.04144,  781.4923 ,  780.39636,  780.207  ,  779.2519 ,\n",
       "        777.2143 ,  775.9984 ,  775.5806 ,  775.64557,  775.08374,\n",
       "        774.8604 ,  775.8442 ,  776.9874 ,  779.31537,  780.81506,\n",
       "        778.92004,  772.3502 ,  768.90845,  767.4882 ,  768.07916,\n",
       "        771.04834,  774.51   ,  775.5718 ,  775.9112 ,  777.93677,\n",
       "        781.7316 ,  783.61505,  781.8549 ,  780.1335 ,  780.59766,\n",
       "        780.66284,  779.92224,  779.7889 ,  781.0573 ,  782.37823,\n",
       "        783.26196,  783.075  ,  784.9326 ,  786.2977 ,  786.01166,\n",
       "        785.31305,  784.417  ,  786.0585 ,  791.1349 ,  796.92596,\n",
       "        798.1527 ,  799.7383 ,  804.6771 ,  806.2731 ,  804.358  ,\n",
       "        804.3986 ,  802.30304,  796.85956,  791.28503,  785.31934,\n",
       "        777.1249 ,  776.9616 ,  783.3034 ,  788.04974,  792.05994,\n",
       "        784.5904 ,  774.37823,  765.2853 ,  762.0976 ,  765.8267 ,\n",
       "        772.06885,  773.8008 ,  774.9234 ,  774.29834,  771.99896,\n",
       "        768.73596,  769.44666,  771.56744,  769.7682 ,  763.39343,\n",
       "        760.95447,  763.72845,  766.57196,  770.76904,  776.0434 ,\n",
       "        780.8311 ,  785.7563 ,  789.83954,  792.0381 ,  793.7531 ,\n",
       "        792.3351 ,  792.4149 ,  793.6048 ,  794.13   ,  794.03577,\n",
       "        794.0018 ,  795.07654,  793.4948 ,  791.16327,  788.60077,\n",
       "        789.5165 ,  790.95715,  794.1037 ,  799.6647 ,  804.14746,\n",
       "        805.2704 ,  805.2712 ,  805.3094 ,  805.53   ,  805.6517 ,\n",
       "        805.77045,  806.61383,  807.7388 ,  812.8112 ,  819.5863 ,\n",
       "        826.28564,  829.23236,  824.11914,  813.76935,  807.0672 ,\n",
       "        803.57526,  805.1943 ,  807.2661 ,  809.3058 ,  811.06134,\n",
       "        812.3514 ,  813.22974,  814.5603 ,  816.2484 ,  817.4069 ,\n",
       "        818.06683,  819.29626,  822.04364,  824.415  ,  826.17883,\n",
       "        826.5762 ,  825.68115,  825.28394,  826.4503 ,  829.2805 ,\n",
       "        830.67285,  829.9201 ,  828.9844 ,  830.2917 ,  832.6831 ,\n",
       "        836.42664,  839.2766 ,  840.4611 ,  841.8219 ,  843.3291 ,\n",
       "        845.1559 ,  846.0805 ,  846.9131 ,  842.1901 ,  834.7074 ,\n",
       "        829.5237 ,  824.00836,  824.0482 ,  827.4675 ,  832.4348 ,\n",
       "        833.98846,  833.12854,  832.2149 ,  832.76086,  832.66034,\n",
       "        831.03046,  828.9188 ,  827.51855,  826.3271 ,  825.7755 ,\n",
       "        826.49884,  829.9075 ,  834.3237 ,  837.42395,  838.99347,\n",
       "        841.7897 ,  847.96796,  855.4137 ,  859.8764 ,  872.54987,\n",
       "        880.03253,  884.99243,  889.4692 ,  896.0102 ,  903.20526,\n",
       "        905.8427 ,  910.285  ,  912.6102 ,  912.17645,  913.93463,\n",
       "        916.5257 ,  920.6381 ,  922.2278 ,  918.4241 ,  918.485  ,\n",
       "        920.7787 ,  926.3778 ,  931.5565 ,  935.3492 ,  940.7477 ,\n",
       "        944.13184,  947.1076 ,  947.1269 ,  947.2728 ,  950.081  ,\n",
       "        954.50995,  956.50336,  958.16437,  959.9313 ,  947.906  ,\n",
       "        943.1897 ,  944.8152 ,  939.4494 ,  936.7876 ,  938.7056 ,\n",
       "        942.4892 ,  943.08826,  943.7021 ,  943.1117 ,  946.2185 ,\n",
       "        940.31866,  931.6117 ,  926.86597,  924.2632 ,  919.3296 ,\n",
       "        912.9144 ,  909.4188 ,  909.2218 ,  913.07947,  917.7121 ,\n",
       "        922.2183 ,  926.18286,  929.4367 ,  932.357  ,  932.7652 ,\n",
       "        937.2941 ,  943.14246,  943.0172 ,  945.4112 ,  942.2617 ,\n",
       "        940.4148 ,  939.4116 ,  932.9037 ,  932.1525 ,  930.408  ,\n",
       "        927.9559 ,  926.7499 ,  925.00854,  924.18677,  922.98267,\n",
       "        919.94556,  916.6546 ,  911.81067,  912.756  ,  915.0573 ,\n",
       "        916.4883 ,  916.85266,  912.07294,  908.0348 ,  906.8922 ,\n",
       "        909.6658 ,  913.99976,  914.932  ,  912.2331 ,  906.7678 ,\n",
       "        907.5314 ,  913.13745,  919.938  ,  921.20013,  919.66394,\n",
       "        918.8804 ,  920.29474,  921.13086,  921.15247,  920.6436 ,\n",
       "        920.62384,  918.956  ,  916.4125 ,  914.1742 ,  914.6779 ,\n",
       "        918.48987,  919.55914,  918.51544,  916.8642 ,  916.9747 ,\n",
       "        921.4564 ,  927.95966,  934.0369 ,  935.2367 ,  935.9144 ,\n",
       "        936.09033,  939.8616 ,  946.9795 ,  951.5691 ,  951.8775 ,\n",
       "        955.87   ,  960.3429 ,  963.0997 ,  964.1095 ,  965.26105,\n",
       "        964.59265,  965.46265,  966.5504 ,  961.6247 ,  957.9342 ,\n",
       "        959.8582 ,  970.6219 ,  978.60645,  982.0271 ,  983.4844 ,\n",
       "        985.37946,  986.751  ,  989.943  ,  991.6853 ,  993.919  ,\n",
       "        996.58453,  996.0573 ,  995.00507,  994.5409 ,  993.67334,\n",
       "        994.4487 ,  998.5857 ,  996.74634,  996.1668 ,  999.4548 ,\n",
       "       1001.63904, 1003.8176 , 1009.41876, 1008.49365, 1001.62775,\n",
       "        996.11536,  992.8911 ,  986.9513 ,  985.49176,  990.89056,\n",
       "        999.2068 , 1002.2478 , 1003.78314, 1005.9113 , 1006.49005,\n",
       "       1009.7588 , 1015.3274 , 1021.26306, 1023.2932 , 1022.2673 ,\n",
       "       1020.9249 , 1019.9483 , 1019.91797, 1018.7008 ], dtype=float32)"
      ]
     },
     "execution_count": 34,
     "metadata": {},
     "output_type": "execute_result"
    }
   ],
   "source": [
    "#predicted_stock_price.shape[1]\n",
    "\n",
    "predicted_stock_price = np.reshape(predicted_stock_price,(predicted_stock_price.shape[0],))\n",
    "predicted_stock_price.shape\n",
    "predicted_stock_price"
   ]
  },
  {
   "cell_type": "code",
   "execution_count": 35,
   "metadata": {},
   "outputs": [
    {
     "data": {
      "image/png": "[encoded data removed]",
      "text/plain": [
       "<Figure size 432x288 with 1 Axes>"
      ]
     },
     "metadata": {
      "needs_background": "light"
     },
     "output_type": "display_data"
    }
   ],
   "source": [
    "# Visualising the results\n",
    "plt.plot(df_train.Date[800:].values,test_set, color = \"red\", label = \"Real google Stock Price\")\n",
    "plt.plot(df_train.Date[860:].values,predicted_stock_price, color = \"blue\", label = \"Predicted google Stock Price\")\n",
    "plt.xticks(np.arange(0,459,50))\n",
    "plt.title('google Stock Price Prediction')\n",
    "plt.xlabel('Time')\n",
    "plt.ylabel('google Stock Price')\n",
    "plt.legend()\n",
    "plt.show()"
   ]
  },
  {
   "cell_type": "code",
   "execution_count": null,
   "metadata": {},
   "outputs": [],
   "source": []
  },
  {
   "cell_type": "code",
   "execution_count": null,
   "metadata": {},
   "outputs": [],
   "source": []
  }
 ],
 "metadata": {
  "kernelspec": {
   "display_name": "object_classify",
   "language": "python",
   "name": "object_classify"
  },
  "language_info": {
   "codemirror_mode": {
    "name": "ipython",
    "version": 3
   },
   "file_extension": ".py",
   "mimetype": "text/x-python",
   "name": "python",
   "nbconvert_exporter": "python",
   "pygments_lexer": "ipython3",
   "version": "3.6.6"
  }
 },
 "nbformat": 4,
 "nbformat_minor": 2
}
